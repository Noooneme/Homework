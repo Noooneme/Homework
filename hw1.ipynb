{
 "cells": [
  {
   "cell_type": "code",
   "execution_count": 7,
   "id": "4826b608",
   "metadata": {},
   "outputs": [],
   "source": [
    "def share_bread(n, k):\n",
    "    n = n\n",
    "    k = k\n",
    "    x = k//n\n",
    "    y = k % n\n",
    "    return x, y\n",
    "\n",
    "\n",
    "assert share_bread(n=3, k=14) == (4, 2)\n"
   ]
  },
  {
   "cell_type": "code",
   "execution_count": 13,
   "id": "f81555d2",
   "metadata": {},
   "outputs": [],
   "source": [
    "def leap_year(year):\n",
    "    if (year%4==0 and year%100 != 0) or year%400==0:\n",
    "        text_result = 'YOU SHALL PASS'\n",
    "    else:\n",
    "        text_result = 'YOU SHALL NOT PASS'\n",
    "    return text_result\n",
    "\n",
    "\n",
    "assert leap_year(5) == 'YOU SHALL NOT PASS'\n"
   ]
  },
  {
   "cell_type": "code",
   "execution_count": 8,
   "id": "5aeb9e7c",
   "metadata": {},
   "outputs": [],
   "source": [
    "def amulet_area(a, b, c):\n",
    "    p = (a+b+c)/2\n",
    "    s = (p*(p - a)*(p - b)*(p - c))**0.5\n",
    "    return s\n",
    "\n",
    "\n",
    "assert amulet_area(3, 4, 5) == 6\n"
   ]
  },
  {
   "cell_type": "code",
   "execution_count": 9,
   "id": "411ed010",
   "metadata": {},
   "outputs": [
    {
     "name": "stdout",
     "output_type": "stream",
     "text": [
      "14.933184523068078\n",
      "236.0\n",
      "-0.507333271492194\n"
     ]
    }
   ],
   "source": [
    "import numpy as np\n",
    "\n",
    "\n",
    "def cal_euclidean(a, b):\n",
    "    d = np.sum(np.square(a, b))\n",
    "    distance = np.sqrt(d)\n",
    "    return distance\n",
    "\n",
    "\n",
    "def cal_manhattan(a, b):\n",
    "    distance = np.linalg.norm(a-b, ord=1)\n",
    "    return distance\n",
    "\n",
    "\n",
    "def cal_cosine(a, b):\n",
    "    distance = np.dot(a, b) / (np.linalg.norm(a) * np.linalg.norm(b))\n",
    "    return distance\n",
    "\n",
    "\n",
    "a = np.random.randint(-10, 10, size=10)\n",
    "b = np.random.randint(-10, 10, size=10)\n",
    "print(cal_euclidean(a, b))\n",
    "print(cal_manhattan(a, b))\n",
    "print(cal_cosine(a, b))"
   ]
  },
  {
   "cell_type": "code",
   "execution_count": 10,
   "id": "8348b055",
   "metadata": {},
   "outputs": [
    {
     "name": "stdout",
     "output_type": "stream",
     "text": [
      "1 0\n",
      "[0 1 0 0 1 1 1 1 1 1 0 0 1 1 0 1 1 1 0 1 1 1 0 0 1 0 0 1 1 1 1 0 0 1 0 1 1\n",
      " 1 1 1 1 1 1 1 1 1 0 0 0 1 0 1 0 1 0 0 1 0 0 1 1 0 1 1 0 0 1 1 1 0 0 1 1 1\n",
      " 1 1 0 1 0 0 0 0 0 0 0 1 0 1 1 0 0 0 0 0 0 0 0 0 0 0]\n",
      "Shape:  (5, 6)\n",
      "Array\n",
      "[[ 3 26  2 37  3 47]\n",
      " [28 24 14 38 32 23]\n",
      " [ 0 15 21  3 40  3]\n",
      " [47 40 45 47 36 48]\n",
      " [34  7 23 14 46 14]]\n",
      "48\n",
      "[[5 4 5]\n",
      " [5 4 4]\n",
      " [5 5 5]\n",
      " [5 4 4]\n",
      " [4 5 4]\n",
      " [5 4 4]\n",
      " [5 4 4]\n",
      " [5 5 4]\n",
      " [5 4 5]\n",
      " [4 4 4]]\n"
     ]
    },
    {
     "data": {
      "text/plain": [
       "array([[4, 4, 4],\n",
       "       [4, 5, 4],\n",
       "       [5, 4, 4],\n",
       "       [5, 4, 5],\n",
       "       [5, 5, 4],\n",
       "       [5, 5, 5]])"
      ]
     },
     "execution_count": 10,
     "metadata": {},
     "output_type": "execute_result"
    }
   ],
   "source": [
    "import numpy as np\n",
    "\n",
    "my_array = np.random.randint(0, 2, size=100)\n",
    "print(np.max(my_array), np.min(my_array))\n",
    "print(my_array)\n",
    "\n",
    "my_array = np.random.randint(0, 50, (5, 6))\n",
    "selected_column = my_array.max()\n",
    "print('Shape: ', my_array.shape)\n",
    "print('Array')\n",
    "print(my_array)\n",
    "print(selected_column)\n",
    "\n",
    "\n",
    "def get_unique_rows(x):\n",
    "    x_unique = np.unique(x, axis=0)\n",
    "    return x_unique\n",
    "\n",
    "\n",
    "x = np.random.randint(4, 6, size=(10, 3))\n",
    "print(x)\n",
    "get_unique_rows(x)\n"
   ]
  }
 ],
 "metadata": {
  "kernelspec": {
   "display_name": "Python 3 (ipykernel)",
   "language": "python",
   "name": "python3"
  },
  "language_info": {
   "codemirror_mode": {
    "name": "ipython",
    "version": 3
   },
   "file_extension": ".py",
   "mimetype": "text/x-python",
   "name": "python",
   "nbconvert_exporter": "python",
   "pygments_lexer": "ipython3",
   "version": "3.11.4"
  }
 },
 "nbformat": 4,
 "nbformat_minor": 5
}
